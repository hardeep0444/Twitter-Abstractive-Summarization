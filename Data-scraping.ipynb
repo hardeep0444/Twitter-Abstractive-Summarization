{
 "cells": [
  {
   "cell_type": "code",
   "execution_count": 49,
   "id": "279a1f14",
   "metadata": {},
   "outputs": [],
   "source": [
    "import pandas as pd\n",
    "from tqdm.notebook import tqdm\n",
    "import snscrape.modules.twitter as scrape_tweets"
   ]
  },
  {
   "cell_type": "code",
   "execution_count": 74,
   "id": "2192df3c",
   "metadata": {},
   "outputs": [
    {
     "data": {
      "application/json": {
       "ascii": false,
       "bar_format": null,
       "colour": null,
       "elapsed": 0.02135467529296875,
       "initial": 0,
       "n": 0,
       "ncols": null,
       "nrows": 29,
       "postfix": null,
       "prefix": "",
       "rate": null,
       "total": 2000,
       "unit": "it",
       "unit_divisor": 1000,
       "unit_scale": false
      },
      "application/vnd.jupyter.widget-view+json": {
       "model_id": "d224754806c849af8f0742213326350e",
       "version_major": 2,
       "version_minor": 0
      },
      "text/plain": [
       "  0%|          | 0/2000 [00:00<?, ?it/s]"
      ]
     },
     "metadata": {},
     "output_type": "display_data"
    },
    {
     "name": "stderr",
     "output_type": "stream",
     "text": [
      "<ipython-input-74-631f6a6547eb>:7: FutureWarning: content is deprecated, use rawContent instead\n",
      "  data=[tweet.content]\n"
     ]
    }
   ],
   "source": [
    "scraper = scrape_tweets.TwitterSearchScraper(\"#COVID19\")\n",
    "\n",
    "tweets=[]\n",
    "n_tweets = 2000\n",
    "\n",
    "for i, tweet in tqdm(enumerate(scraper.get_items()), total = n_tweets):\n",
    "    data=[tweet.content]\n",
    "    tweets.append(data)\n",
    "    if(i>n_tweets):\n",
    "        break"
   ]
  },
  {
   "cell_type": "code",
   "execution_count": 75,
   "id": "105b526c",
   "metadata": {},
   "outputs": [
    {
     "data": {
      "text/html": [
       "<div>\n",
       "<style scoped>\n",
       "    .dataframe tbody tr th:only-of-type {\n",
       "        vertical-align: middle;\n",
       "    }\n",
       "\n",
       "    .dataframe tbody tr th {\n",
       "        vertical-align: top;\n",
       "    }\n",
       "\n",
       "    .dataframe thead th {\n",
       "        text-align: right;\n",
       "    }\n",
       "</style>\n",
       "<table border=\"1\" class=\"dataframe\">\n",
       "  <thead>\n",
       "    <tr style=\"text-align: right;\">\n",
       "      <th></th>\n",
       "      <th>text</th>\n",
       "    </tr>\n",
       "  </thead>\n",
       "  <tbody>\n",
       "    <tr>\n",
       "      <th>0</th>\n",
       "      <td>@kaenchenkaffee @1900HO #IchHabeMitgemacht\\n\\n...</td>\n",
       "    </tr>\n",
       "    <tr>\n",
       "      <th>1</th>\n",
       "      <td>#Scotland mortality review \\n2022 Week 09 - 20...</td>\n",
       "    </tr>\n",
       "    <tr>\n",
       "      <th>2</th>\n",
       "      <td>🔴L'arrêt de la France décidée par #Veran /#Mac...</td>\n",
       "    </tr>\n",
       "    <tr>\n",
       "      <th>3</th>\n",
       "      <td>0.23 A medida que las #vacunas #COVID19 se imp...</td>\n",
       "    </tr>\n",
       "    <tr>\n",
       "      <th>4</th>\n",
       "      <td>@Agenzia_Ansa Ora iniziano i piagnistei …ah no...</td>\n",
       "    </tr>\n",
       "    <tr>\n",
       "      <th>...</th>\n",
       "      <td>...</td>\n",
       "    </tr>\n",
       "    <tr>\n",
       "      <th>1997</th>\n",
       "      <td>#COVID19\\nhttps://t.co/Kt161uV49I</td>\n",
       "    </tr>\n",
       "    <tr>\n",
       "      <th>1998</th>\n",
       "      <td>Unleash the power of OneNote for your Projects...</td>\n",
       "    </tr>\n",
       "    <tr>\n",
       "      <th>1999</th>\n",
       "      <td>Hey .@AshishKJha46\\n1095 days - and this immun...</td>\n",
       "    </tr>\n",
       "    <tr>\n",
       "      <th>2000</th>\n",
       "      <td>Studies are suggesting clearly that heart atta...</td>\n",
       "    </tr>\n",
       "    <tr>\n",
       "      <th>2001</th>\n",
       "      <td>बाक़ी देश जाए भाड़ में\\n मित्रकाल में बस मित्र...</td>\n",
       "    </tr>\n",
       "  </tbody>\n",
       "</table>\n",
       "<p>2002 rows × 1 columns</p>\n",
       "</div>"
      ],
      "text/plain": [
       "                                                   text\n",
       "0     @kaenchenkaffee @1900HO #IchHabeMitgemacht\\n\\n...\n",
       "1     #Scotland mortality review \\n2022 Week 09 - 20...\n",
       "2     🔴L'arrêt de la France décidée par #Veran /#Mac...\n",
       "3     0.23 A medida que las #vacunas #COVID19 se imp...\n",
       "4     @Agenzia_Ansa Ora iniziano i piagnistei …ah no...\n",
       "...                                                 ...\n",
       "1997                  #COVID19\\nhttps://t.co/Kt161uV49I\n",
       "1998  Unleash the power of OneNote for your Projects...\n",
       "1999  Hey .@AshishKJha46\\n1095 days - and this immun...\n",
       "2000  Studies are suggesting clearly that heart atta...\n",
       "2001  बाक़ी देश जाए भाड़ में\\n मित्रकाल में बस मित्र...\n",
       "\n",
       "[2002 rows x 1 columns]"
      ]
     },
     "execution_count": 75,
     "metadata": {},
     "output_type": "execute_result"
    }
   ],
   "source": [
    "df = pd.DataFrame(tweets, columns=[\"text\"])\n",
    "df"
   ]
  },
  {
   "cell_type": "code",
   "execution_count": 76,
   "id": "75edeeec",
   "metadata": {},
   "outputs": [
    {
     "data": {
      "text/plain": [
       "'@kaenchenkaffee @1900HO #IchHabeMitgemacht\\n\\n#Ploetzlichundunerwartet war ich:\\n\\n4 * geimpft.\\n0 * #Impfschäden.\\n0 * #COVID19.\\n0 * #LongCovid.\\n\\n#Impfungen schützen.\\n#ImpfenstattSchimpfen 😁!'"
      ]
     },
     "execution_count": 76,
     "metadata": {},
     "output_type": "execute_result"
    }
   ],
   "source": [
    "df['text'][0]"
   ]
  },
  {
   "cell_type": "code",
   "execution_count": 77,
   "id": "1f324fca",
   "metadata": {},
   "outputs": [],
   "source": [
    "df.to_csv(\"#COVID19.csv\")"
   ]
  },
  {
   "cell_type": "code",
   "execution_count": null,
   "id": "a471a940",
   "metadata": {},
   "outputs": [],
   "source": []
  },
  {
   "cell_type": "code",
   "execution_count": null,
   "id": "52755a9d",
   "metadata": {},
   "outputs": [],
   "source": []
  },
  {
   "cell_type": "code",
   "execution_count": null,
   "id": "b94ebf05",
   "metadata": {},
   "outputs": [],
   "source": []
  }
 ],
 "metadata": {
  "kernelspec": {
   "display_name": "Python 3",
   "language": "python",
   "name": "python3"
  },
  "language_info": {
   "codemirror_mode": {
    "name": "ipython",
    "version": 3
   },
   "file_extension": ".py",
   "mimetype": "text/x-python",
   "name": "python",
   "nbconvert_exporter": "python",
   "pygments_lexer": "ipython3",
   "version": "3.9.0"
  }
 },
 "nbformat": 4,
 "nbformat_minor": 5
}
